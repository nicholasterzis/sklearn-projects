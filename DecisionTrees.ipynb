{
 "cells": [
  {
   "cell_type": "markdown",
   "id": "92005725-04df-424d-a8ce-67d52f006f1c",
   "metadata": {},
   "source": [
    "## Import Libraries"
   ]
  },
  {
   "cell_type": "code",
   "execution_count": 1,
   "id": "6684427c-0a53-4b57-b7d8-e5e4b7090382",
   "metadata": {},
   "outputs": [],
   "source": [
    "import numpy as np\n",
    "import pandas as pd\n",
    "from sklearn.datasets import load_breast_cancer\n",
    "from sklearn.model_selection import train_test_split, GridSearchCV, StratifiedKFold\n",
    "from sklearn.tree import DecisionTreeClassifier\n",
    "from sklearn.metrics import f1_score, accuracy_score, balanced_accuracy_score, average_precision_score, recall_score\n",
    "from sklearn.compose import ColumnTransformer\n",
    "from sklearn.pipeline import Pipeline\n",
    "from sklearn.impute import SimpleImputer\n",
    "from sklearn.preprocessing import OneHotEncoder, OrdinalEncoder"
   ]
  },
  {
   "cell_type": "markdown",
   "id": "da5781cb-dc60-4f2f-be3b-6b1e9eef1df4",
   "metadata": {},
   "source": [
    "## Split Train and Testing Set"
   ]
  },
  {
   "cell_type": "code",
   "execution_count": 2,
   "id": "34bcd5dc-a334-41bd-a2a5-e02c06da2ecc",
   "metadata": {},
   "outputs": [],
   "source": [
    "X, y = load_breast_cancer(return_X_y=(True))\n",
    "X_train, X_test, y_train, y_test = train_test_split(X, y, test_size = 0.33)"
   ]
  },
  {
   "cell_type": "code",
   "execution_count": 3,
   "id": "d09c6ad2-00e9-468e-9edc-3d025dbbf5bb",
   "metadata": {},
   "outputs": [
    {
     "name": "stdout",
     "output_type": "stream",
     "text": [
      "Size of train set: 381\n",
      "Size of test set: 188\n",
      "Unique classes: 2\n"
     ]
    }
   ],
   "source": [
    "print(\"Size of train set: {}\".format(len(y_train)))\n",
    "print(\"Size of test set: {}\".format(len(y_test)))\n",
    "print(\"Unique classes: {}\".format(len(set(y_test))))"
   ]
  },
  {
   "cell_type": "markdown",
   "id": "8b743937-05a1-4868-9580-d238c17f3cda",
   "metadata": {},
   "source": [
    "## Training Simple Classifiers"
   ]
  },
  {
   "cell_type": "code",
   "execution_count": 4,
   "id": "647a6b90-7402-46b0-9a60-d51992f29e3d",
   "metadata": {},
   "outputs": [],
   "source": [
    "classifier_gini = DecisionTreeClassifier()\n",
    "classifier_igain = DecisionTreeClassifier(criterion = \"entropy\")\n",
    "\n",
    "classifier_gini.fit(X_train, y_train)\n",
    "classifier_igain.fit(X_train, y_train)\n",
    "\n",
    "prediction_gini = classifier_gini.predict(X_test)\n",
    "prediction_igain = classifier_igain.predict(X_test)\n",
    "\n",
    "f_measure_gini = f1_score(y_test, prediction_gini)\n",
    "f_measure_igain = f1_score(y_test, prediction_igain)"
   ]
  },
  {
   "cell_type": "code",
   "execution_count": 5,
   "id": "9eb66237-1eca-4300-b5c4-bd0e73902829",
   "metadata": {},
   "outputs": [
    {
     "name": "stdout",
     "output_type": "stream",
     "text": [
      "F-Measure Gini: 0.9641434262948207\n",
      "F-Measure Information Gain: 0.952\n"
     ]
    }
   ],
   "source": [
    "print(\"F-Measure Gini: {}\".format(f_measure_gini))\n",
    "print(\"F-Measure Information Gain: {}\".format(f_measure_igain))"
   ]
  },
  {
   "cell_type": "markdown",
   "id": "b09b4836-8e9e-44bf-b85d-2f105e5b3617",
   "metadata": {},
   "source": [
    "### Training Different Classifiers based on max_depth"
   ]
  },
  {
   "cell_type": "code",
   "execution_count": 6,
   "id": "d5bc22e9-e4c4-4a84-9d19-bd01b727dcce",
   "metadata": {},
   "outputs": [],
   "source": [
    "depth = classifier_gini.get_depth()\n",
    "fscores = {}\n",
    "fscores['train'] = np.zeros(depth)\n",
    "fscores['test'] = np.zeros(depth) \n",
    "\n",
    "for i in range(depth):\n",
    "    classifier_gini = DecisionTreeClassifier(max_depth = i+1)\n",
    "    classifier_gini.fit(X_train, y_train)\n",
    "    prediction_gini = classifier_gini.predict(X_test)\n",
    "    prediction_gini_train = classifier_gini.predict(X_train)\n",
    "    fscores['test'][i] = round(100*f1_score(y_test, prediction_gini),2)\n",
    "    fscores['train'][i] = round(100*f1_score(y_train, prediction_gini_train),2)"
   ]
  },
  {
   "cell_type": "code",
   "execution_count": 7,
   "id": "fd687d57-67e7-4231-b1b2-90bfe47a2c37",
   "metadata": {},
   "outputs": [
    {
     "name": "stdout",
     "output_type": "stream",
     "text": [
      "Fscores Train: [ 93.94  96.52  97.6   98.71  99.35 100.  ]\n",
      "Fscores Test:  [92.5  92.56 92.5  96.41 93.88 96.39]\n"
     ]
    }
   ],
   "source": [
    "print(\"Fscores Train: {}\".format(fscores['train']))\n",
    "print(\"Fscores Test:  {}\".format(fscores['test']))"
   ]
  },
  {
   "cell_type": "markdown",
   "id": "9c4c41ef-7c88-4977-bab8-269116184d1c",
   "metadata": {},
   "source": [
    "## Setting Up Pipelines"
   ]
  },
  {
   "cell_type": "code",
   "execution_count": 8,
   "id": "3008a04a-735f-46ba-8be3-ab6fea5bae71",
   "metadata": {},
   "outputs": [],
   "source": [
    "data = pd.read_csv(\"income_train_trees.csv\", header = 0)\n",
    "train_set = data.iloc[:, :-1].values\n",
    "y_train = data.iloc[:, -1].values\n",
    "\n",
    "# any other code you need\n",
    "data_test = pd.read_csv(\"income_test_trees.csv\", header = 0)\n",
    "test_set = data_test.iloc[:, :-1].values\n",
    "y_test = data_test.iloc[:, -1].values"
   ]
  },
  {
   "cell_type": "markdown",
   "id": "8bc77f43-b161-4b9a-aba3-bbd6e4e0efbb",
   "metadata": {},
   "source": [
    "### Imputer and One-hot Encoder for Preprocessing + Decision Tree Classifier"
   ]
  },
  {
   "cell_type": "code",
   "execution_count": 9,
   "id": "465c1203-31cd-4714-8ab1-5db1f096ca44",
   "metadata": {},
   "outputs": [],
   "source": [
    "categorical_cols = [1,3,5,6,7,8,9]\n",
    "imp = SimpleImputer(missing_values=np.nan, strategy='most_frequent') # Handle Missing Values\n",
    "ct = ColumnTransformer(transformers=[('encoder', OneHotEncoder(sparse_output = False), [1,3,5,6,7,8,9])], remainder='passthrough') # Handle Categorical Values\n",
    "classifier = DecisionTreeClassifier()    \n",
    "clf = Pipeline([\n",
    "    ('imp', imp),\n",
    "    ('ct', ct),\n",
    "    ('classifier', classifier),\n",
    "])\n",
    "clf.fit(train_set, y_train)\n",
    "y_predict =  clf.predict(test_set)"
   ]
  },
  {
   "cell_type": "code",
   "execution_count": 10,
   "id": "2cba7c8d-212e-407d-aeb3-a92cacd3ac9d",
   "metadata": {},
   "outputs": [
    {
     "name": "stdout",
     "output_type": "stream",
     "text": [
      "Model score Accuracy: 0.806\n",
      "Model score F1 Weighted: 0.807\n"
     ]
    }
   ],
   "source": [
    "print(\"Model score Accuracy: %.3f\" % accuracy_score(y_test, y_predict))\n",
    "print(\"Model score F1 Weighted: %.3f\" % f1_score(y_test, y_predict,average='weighted'))"
   ]
  },
  {
   "cell_type": "markdown",
   "id": "bd31e3dd-5aa5-40ea-a400-7f90e58f8847",
   "metadata": {},
   "source": [
    "### Grid Search for Optimal Parameters"
   ]
  },
  {
   "cell_type": "code",
   "execution_count": 11,
   "id": "62b05ce6-b9dd-43fc-b004-24c5979bc64c",
   "metadata": {},
   "outputs": [
    {
     "name": "stderr",
     "output_type": "stream",
     "text": [
      "C:\\Users\\Nick\\anaconda3\\envs\\TorchGraph312\\Lib\\site-packages\\numpy\\ma\\core.py:2881: RuntimeWarning: invalid value encountered in cast\n",
      "  _data = np.array(data, dtype=dtype, copy=copy,\n"
     ]
    },
    {
     "name": "stdout",
     "output_type": "stream",
     "text": [
      "Best params:\n",
      "{'classifier__criterion': 'gini', 'classifier__max_depth': 6}\n"
     ]
    }
   ],
   "source": [
    "param_grid = {\n",
    "    \"classifier__criterion\": [\"entropy\", \"gini\"],\n",
    "    \"classifier__max_depth\": list(range(1,depth+1)),\n",
    "}\n",
    "\n",
    "grid_search = GridSearchCV(clf, param_grid)\n",
    "grid_search.fit(train_set, y_train)\n",
    "y_predict = grid_search.predict(test_set)\n",
    "\n",
    "print(\"Best params:\")\n",
    "print(grid_search.best_params_)"
   ]
  },
  {
   "cell_type": "code",
   "execution_count": 12,
   "id": "ae2ef2d8-283d-49d2-9ce6-0726849a14b0",
   "metadata": {},
   "outputs": [
    {
     "name": "stdout",
     "output_type": "stream",
     "text": [
      "Model score Accuracy: 0.852\n",
      "Model score F1 Weighted: 0.841\n"
     ]
    }
   ],
   "source": [
    "print(\"Model score Accuracy: %.3f\" % accuracy_score(y_test,y_predict))\n",
    "print(\"Model score F1 Weighted: %.3f\" % f1_score(y_test,y_predict,average='weighted'))"
   ]
  },
  {
   "cell_type": "markdown",
   "id": "ed3d54bf-e52b-492e-b490-08cc13e082fb",
   "metadata": {},
   "source": [
    "## Pipeline for Custom Data"
   ]
  },
  {
   "cell_type": "code",
   "execution_count": 13,
   "id": "10b261d9-1960-4863-b05b-21286aaea814",
   "metadata": {},
   "outputs": [
    {
     "name": "stdout",
     "output_type": "stream",
     "text": [
      "Model score accuracy: 0.791\n"
     ]
    }
   ],
   "source": [
    "columns = ['age','fnlwgt','education_num','hours-per-week',\"capital-loss\",\"capital-gain\",\"income\"]\n",
    "data = pd.read_csv('income_train_trees.csv',usecols=columns)\n",
    "data_test = pd.read_csv('income_test_trees.csv',usecols=columns)\n",
    "# Convert target variable to 0 and 1\n",
    "data[\"income\"] = data[\"income\"].map({ \"<=50K\": 0, \">50K\": 1 })\n",
    "data_test[\"income\"] = data_test[\"income\"].map({ \"<=50K\": 0, \">50K\": 1 })\n",
    "# Create X and y\n",
    "X_train = data.drop([\"income\"],axis=1)\n",
    "y_train = data['income'].values\n",
    "X_test = data_test.drop([\"income\"],axis=1)\n",
    "y_test = data_test['income'].values\n",
    "# Classifier\n",
    "classifier = DecisionTreeClassifier(min_samples_leaf=4)\n",
    "classifier.fit(X_train,y_train)\n",
    "y_predict = classifier.predict(X_test)\n",
    "accuracy = accuracy_score(y_test,y_predict)\n",
    "print(\"Model score accuracy: %.3f\" % accuracy)"
   ]
  },
  {
   "cell_type": "code",
   "execution_count": 14,
   "id": "caa7326d-eba1-4afc-8745-38c60b8e6385",
   "metadata": {},
   "outputs": [],
   "source": [
    "y_predict = classifier.predict(X_test)\n",
    "\n",
    "avg_precision = average_precision_score(y_test, y_predict)\n",
    "balanced_acc = balanced_accuracy_score(y_test, y_predict)\n",
    "recall = recall_score(y_test, y_predict)"
   ]
  },
  {
   "cell_type": "code",
   "execution_count": 15,
   "id": "7e32596b-9208-4906-9137-f9aa82c950de",
   "metadata": {},
   "outputs": [
    {
     "name": "stdout",
     "output_type": "stream",
     "text": [
      "Model Average Precision: 0.414\n",
      "Model Balanced Accuracy Score: 0.688\n",
      "Model Recall: 0.485\n"
     ]
    }
   ],
   "source": [
    "print(\"Model Average Precision: %.3f\" % avg_precision)\n",
    "print(\"Model Balanced Accuracy Score: %.3f\" % balanced_acc)\n",
    "print(\"Model Recall: %.3f\" % recall)"
   ]
  },
  {
   "cell_type": "code",
   "execution_count": 18,
   "id": "90a51d9b-637b-4273-a0ca-a708fd0ab761",
   "metadata": {},
   "outputs": [
    {
     "name": "stdout",
     "output_type": "stream",
     "text": [
      "{'max_depth': 9}\n"
     ]
    }
   ],
   "source": [
    "# Imbalanced Dataset - Optimize Params\n",
    "depth = {\"max_depth\": range(1,11)}\n",
    "skf = StratifiedKFold(n_splits=10, shuffle = True)\n",
    "classifier = DecisionTreeClassifier(max_depth = 7)\n",
    "clf = GridSearchCV(estimator=classifier, param_grid=depth, cv=skf.split(X_train, y_train))\n",
    "clf.fit(X_train, y_train)\n",
    "pred = clf.predict(X_test)\n",
    "\n",
    "accuracy = accuracy_score(y_test,pred)\n",
    "avg_precision = average_precision_score(y_test, pred)\n",
    "balanced_acc = balanced_accuracy_score(y_test, pred)\n",
    "recall = recall_score(y_test, pred)\n",
    "\n",
    "print(clf.best_params_) # Best Depth"
   ]
  },
  {
   "cell_type": "code",
   "execution_count": 19,
   "id": "ff5a17fe-3c92-478e-956a-a478fac11375",
   "metadata": {},
   "outputs": [
    {
     "name": "stdout",
     "output_type": "stream",
     "text": [
      "Model score accuracy: 0.824\n",
      "Model Average Precision: 0.462\n",
      "Model Balanced Accuracy Score: 0.689\n",
      "Model Recall: 0.421\n"
     ]
    }
   ],
   "source": [
    "print(\"Model score accuracy: %.3f\" % accuracy)\n",
    "print(\"Model Average Precision: %.3f\" % avg_precision)\n",
    "print(\"Model Balanced Accuracy Score: %.3f\" % balanced_acc)\n",
    "print(\"Model Recall: %.3f\" % recall)"
   ]
  },
  {
   "cell_type": "markdown",
   "id": "c95d5b65-31e4-48ed-a6f3-c715f068241e",
   "metadata": {},
   "source": [
    "Despite the optimized parameters, the model still struggles due to the class imbalance"
   ]
  }
 ],
 "metadata": {
  "kernelspec": {
   "display_name": "Python 3 (ipykernel)",
   "language": "python",
   "name": "python3"
  },
  "language_info": {
   "codemirror_mode": {
    "name": "ipython",
    "version": 3
   },
   "file_extension": ".py",
   "mimetype": "text/x-python",
   "name": "python",
   "nbconvert_exporter": "python",
   "pygments_lexer": "ipython3",
   "version": "3.12.0"
  }
 },
 "nbformat": 4,
 "nbformat_minor": 5
}
